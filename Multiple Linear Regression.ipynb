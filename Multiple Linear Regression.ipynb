{
 "cells": [
  {
   "cell_type": "markdown",
   "id": "a783b1fa",
   "metadata": {},
   "source": [
    "Multivariate Linear Regression is not Multiple Linear Regression since it refer to another things"
   ]
  },
  {
   "cell_type": "code",
   "execution_count": 13,
   "id": "8acba34c",
   "metadata": {},
   "outputs": [],
   "source": [
    "import pandas as pd\n",
    "import numpy as np\n",
    "import matplotlib.pyplot as plt\n",
    "import math"
   ]
  },
  {
   "cell_type": "markdown",
   "id": "74eee04d",
   "metadata": {},
   "source": [
    "### Linear Regression Algorithms"
   ]
  },
  {
   "cell_type": "code",
   "execution_count": 14,
   "id": "be7fcdc7",
   "metadata": {},
   "outputs": [],
   "source": [
    "class LinearRegression:\n",
    "    def __init__(self, alpha=0.001, iteration=100000):\n",
    "        self.alpha = alpha\n",
    "        self.iteration = iteration\n",
    "        \n",
    "    \n",
    "    def _normalize(self, x):\n",
    "        for i in range(self.n):\n",
    "            x[:, i] = x[:, i] / max(x[:, i])\n",
    "        return x\n",
    "        \n",
    "    \n",
    "    def _compute_prediction(self):\n",
    "        self.y_hat = np.dot(self.x, self.w) + self.b\n",
    "        return self.y_hat\n",
    "        \n",
    "    \n",
    "    def _compute_cost(self):\n",
    "        self.cost = 1 / (2 * self.m) * np.sum((self._compute_prediction() - self.y) ** 2)\n",
    "        return self.cost\n",
    "    \n",
    "    \n",
    "    def _compute_gradient(self):\n",
    "        self.d_dw = 1 / self.m * np.dot(self.x.T, self._compute_prediction() - self.y)\n",
    "        self.d_db = 1 / self.m * np.sum((self._compute_prediction() - self.y))\n",
    "        return self.d_dw, self.d_db\n",
    "        \n",
    "    \n",
    "    def _gradient_descend(self):\n",
    "        self.cost_hist = []\n",
    "        \n",
    "        for i in range(self.iteration):\n",
    "            self._compute_prediction()\n",
    "            self.cost_hist.append(self._compute_cost())\n",
    "            \n",
    "            if i % math.ceil(self.iteration / 10) == 0 or i + 1 == self.iteration:\n",
    "                print(f\"Iteration: {i}, Cost: {self.cost:.5f}, W: {[round(j, 3) for j in self.w]}, b: {self.b:.2f}\")\n",
    "                \n",
    "            self._compute_gradient()\n",
    "            \n",
    "            self.w = self.w - self.alpha * self.d_dw\n",
    "            self.b = self.b - self.alpha * self.d_db\n",
    "            \n",
    "            \n",
    "    def _check_dimension(self, x):\n",
    "        try:\n",
    "            if x.shape[1]:\n",
    "                pass\n",
    "        except IndexError:\n",
    "            raise ValueError('Expected 2D aray, got 1D instead')\n",
    "                    \n",
    "        \n",
    "    def fit(self, x, y):    \n",
    "        self._check_dimension(x)\n",
    "        self.x = x\n",
    "        self.y = y\n",
    "        self.m = self.x.shape[0]\n",
    "        self.n = self.x.shape[1]    \n",
    "        self.w = np.ones(self.n)\n",
    "        self.b = 0\n",
    "        \n",
    "        self._normalize(self.x)\n",
    "        self._gradient_descend()\n",
    "        \n",
    "    \n",
    "    def predict(self, x_test):    \n",
    "        self._check_dimension(x_test)\n",
    "        self._normalize(x_test)\n",
    "        return np.dot(x_test, self.w) + self.b\n",
    "    \n",
    "    \n",
    "    def accuracy(self, y_test, y_pred):\n",
    "        rss = np.sum((y_test - y_pred) ** 2)\n",
    "        tss = np.sum((y_test - np.mean(y_test)) ** 2)\n",
    "        \n",
    "        r_squared = 1 - (rss / tss)\n",
    "        return r_squared\n",
    "        "
   ]
  },
  {
   "cell_type": "markdown",
   "id": "c0608009",
   "metadata": {},
   "source": [
    "### Test 1"
   ]
  },
  {
   "cell_type": "code",
   "execution_count": 15,
   "id": "ad60f6e7",
   "metadata": {},
   "outputs": [
    {
     "name": "stdout",
     "output_type": "stream",
     "text": [
      "Iteration: 0, Cost: 2636.44711, W: [1.0], b: 0.00\n",
      "Iteration: 10000, Cost: 84.01584, W: [41.598], b: 43.01\n",
      "Iteration: 20000, Cost: 78.28079, W: [47.794], b: 38.66\n",
      "Iteration: 30000, Cost: 73.77243, W: [53.288], b: 34.81\n",
      "Iteration: 40000, Cost: 70.22838, W: [58.158], b: 31.39\n",
      "Iteration: 50000, Cost: 67.44237, W: [62.477], b: 28.36\n",
      "Iteration: 60000, Cost: 65.25227, W: [66.305], b: 25.67\n",
      "Iteration: 70000, Cost: 63.53061, W: [69.7], b: 23.29\n",
      "Iteration: 80000, Cost: 62.17720, W: [72.71], b: 21.18\n",
      "Iteration: 90000, Cost: 61.11328, W: [75.379], b: 19.31\n",
      "Iteration: 99999, Cost: 60.27700, W: [77.745], b: 17.65\n",
      "\n",
      "Accuracy:  0.6139290505712456\n"
     ]
    }
   ],
   "source": [
    "df = pd.read_csv('./data/data.csv', delimiter=',', header=None)\n",
    "x_train, y_train = df.iloc[:80, 0].values.reshape(-1, 1), df.iloc[:80, 1].values\n",
    "x_test, y_test =  df.iloc[80:, 0].values.reshape(-1, 1), df.iloc[80:, 1].values\n",
    "\n",
    "\n",
    "model = LinearRegression()\n",
    "model.fit(x_train, y_train)\n",
    "y_pred = model.predict(x_test)\n",
    "\n",
    "print(\"\\nAccuracy: \", model.accuracy(y_test, y_pred))"
   ]
  },
  {
   "cell_type": "markdown",
   "id": "3d5a3888",
   "metadata": {},
   "source": [
    "### Test 2"
   ]
  },
  {
   "cell_type": "code",
   "execution_count": 16,
   "id": "f67ab8d1",
   "metadata": {},
   "outputs": [
    {
     "data": {
      "text/html": [
       "<div>\n",
       "<style scoped>\n",
       "    .dataframe tbody tr th:only-of-type {\n",
       "        vertical-align: middle;\n",
       "    }\n",
       "\n",
       "    .dataframe tbody tr th {\n",
       "        vertical-align: top;\n",
       "    }\n",
       "\n",
       "    .dataframe thead th {\n",
       "        text-align: right;\n",
       "    }\n",
       "</style>\n",
       "<table border=\"1\" class=\"dataframe\">\n",
       "  <thead>\n",
       "    <tr style=\"text-align: right;\">\n",
       "      <th></th>\n",
       "      <th>size</th>\n",
       "      <th>bedroom</th>\n",
       "      <th>floor</th>\n",
       "      <th>age</th>\n",
       "      <th>price</th>\n",
       "    </tr>\n",
       "  </thead>\n",
       "  <tbody>\n",
       "    <tr>\n",
       "      <th>0</th>\n",
       "      <td>952.0</td>\n",
       "      <td>2.0</td>\n",
       "      <td>1.0</td>\n",
       "      <td>65.0</td>\n",
       "      <td>271.5</td>\n",
       "    </tr>\n",
       "    <tr>\n",
       "      <th>1</th>\n",
       "      <td>1244.0</td>\n",
       "      <td>3.0</td>\n",
       "      <td>1.0</td>\n",
       "      <td>64.0</td>\n",
       "      <td>300.0</td>\n",
       "    </tr>\n",
       "    <tr>\n",
       "      <th>2</th>\n",
       "      <td>1947.0</td>\n",
       "      <td>3.0</td>\n",
       "      <td>2.0</td>\n",
       "      <td>17.0</td>\n",
       "      <td>509.8</td>\n",
       "    </tr>\n",
       "    <tr>\n",
       "      <th>3</th>\n",
       "      <td>1725.0</td>\n",
       "      <td>3.0</td>\n",
       "      <td>2.0</td>\n",
       "      <td>42.0</td>\n",
       "      <td>394.0</td>\n",
       "    </tr>\n",
       "    <tr>\n",
       "      <th>4</th>\n",
       "      <td>1959.0</td>\n",
       "      <td>3.0</td>\n",
       "      <td>2.0</td>\n",
       "      <td>15.0</td>\n",
       "      <td>540.0</td>\n",
       "    </tr>\n",
       "  </tbody>\n",
       "</table>\n",
       "</div>"
      ],
      "text/plain": [
       "     size  bedroom  floor   age  price\n",
       "0   952.0      2.0    1.0  65.0  271.5\n",
       "1  1244.0      3.0    1.0  64.0  300.0\n",
       "2  1947.0      3.0    2.0  17.0  509.8\n",
       "3  1725.0      3.0    2.0  42.0  394.0\n",
       "4  1959.0      3.0    2.0  15.0  540.0"
      ]
     },
     "execution_count": 16,
     "metadata": {},
     "output_type": "execute_result"
    }
   ],
   "source": [
    "features = ['size', 'bedroom', 'floor', 'age', 'price']\n",
    "df = pd.read_csv('./data/houses.txt', names=features)\n",
    "df.head()"
   ]
  },
  {
   "cell_type": "code",
   "execution_count": 17,
   "id": "f23adcc3",
   "metadata": {},
   "outputs": [],
   "source": [
    "x, y = df.iloc[:, :-1].values, df.iloc[:, -1].values"
   ]
  },
  {
   "cell_type": "code",
   "execution_count": 18,
   "id": "4183341a",
   "metadata": {},
   "outputs": [
    {
     "data": {
      "image/png": "[encoded data removed]",
      "text/plain": [
       "<Figure size 1200x300 with 4 Axes>"
      ]
     },
     "metadata": {},
     "output_type": "display_data"
    }
   ],
   "source": [
    "fig, ax = plt.subplots(1, 4, figsize=(12, 3), sharey=True)\n",
    "for i in range(len(ax)):\n",
    "    ax[i].scatter(x[:, i], y)\n",
    "    ax[i].set_xlabel(df.columns[i])\n",
    "    \n",
    "ax[0].set_ylabel(features[-1])\n",
    "plt.show()"
   ]
  },
  {
   "cell_type": "code",
   "execution_count": 19,
   "id": "dbe74f52",
   "metadata": {},
   "outputs": [],
   "source": [
    "ratio = 0.8\n",
    "np.random.seed(42)\n",
    "mask = np.random.rand(len(x)) < ratio\n",
    "\n",
    "x_train, y_train, x_test, y_test = x[mask], y[mask], x[~mask], y[~mask]"
   ]
  },
  {
   "cell_type": "code",
   "execution_count": null,
   "id": "6f721626",
   "metadata": {},
   "outputs": [
    {
     "name": "stdout",
     "output_type": "stream",
     "text": [
      "Iteration: 0, Cost: 70732.38353, W: [1.0, 1.0, 1.0, 1.0], b: 0.00\n",
      "Iteration: 10000, Cost: 3159.21141, W: [139.726, 103.412, 109.347, -43.767], b: 166.37\n",
      "Iteration: 20000, Cost: 2462.75867, W: [195.679, 94.432, 91.223, -99.672], b: 180.64\n"
     ]
    }
   ],
   "source": [
    "model = LinearRegression()\n",
    "model.fit(x_train, y_train)"
   ]
  },
  {
   "cell_type": "code",
   "execution_count": null,
   "id": "c199cfeb",
   "metadata": {},
   "outputs": [],
   "source": [
    "y_pred = model.predict(x_test)\n",
    "print(\"\\nAccuracy: \", model.accuracy(y_test, y_pred))"
   ]
  },
  {
   "cell_type": "code",
   "execution_count": null,
   "id": "ee121a2b",
   "metadata": {},
   "outputs": [],
   "source": [
    "plt.plot(1000 + np.arange(len(model.cost_hist[1000:])), model.cost_hist[1000:]) \n",
    "plt.ylabel('Cost')\n",
    "plt.xlabel('Iteration')\n",
    "plt.show()"
   ]
  }
 ],
 "metadata": {
  "kernelspec": {
   "display_name": "Python 3 (ipykernel)",
   "language": "python",
   "name": "python3"
  },
  "language_info": {
   "codemirror_mode": {
    "name": "ipython",
    "version": 3
   },
   "file_extension": ".py",
   "mimetype": "text/x-python",
   "name": "python",
   "nbconvert_exporter": "python",
   "pygments_lexer": "ipython3",
   "version": "3.10.7"
  }
 },
 "nbformat": 4,
 "nbformat_minor": 5
}
